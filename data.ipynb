{
 "cells": [
  {
   "cell_type": "code",
   "execution_count": 1,
   "id": "6d05eb7c",
   "metadata": {},
   "outputs": [
    {
     "name": "stdout",
     "output_type": "stream",
     "text": [
      "High count data: (192, 240, 3034)\n",
      "Low count data: (192, 240, 3034)\n",
      "Sample 0:\n",
      "[[233. 276. 253. ... 314. 286. 333.]\n",
      " [301. 262. 282. ... 297. 324. 342.]\n",
      " [293. 291. 275. ... 343. 334. 346.]\n",
      " ...\n",
      " [292. 270. 292. ... 334. 308. 310.]\n",
      " [325. 340. 321. ... 292. 309. 312.]\n",
      " [291. 286. 277. ... 298. 321. 312.]]\n",
      "\n",
      "[[ 3.  3.  0. ... 16. 19. 13.]\n",
      " [ 1.  3.  1. ... 15. 20. 18.]\n",
      " [ 0.  3.  2. ... 14. 10. 17.]\n",
      " ...\n",
      " [ 1.  3.  3. ... 13. 21. 15.]\n",
      " [ 2.  5.  3. ... 21. 13. 20.]\n",
      " [ 1.  3.  2. ... 13. 12. 19.]]\n"
     ]
    }
   ],
   "source": [
    "import h5py\n",
    "import numpy as np\n",
    "\n",
    "file_path = \"test_data.hdf5\"\n",
    "\n",
    "with h5py.File(file_path, \"r\") as f:\n",
    "    # high_count data\n",
    "    high_data = f[\"/high_count/data\"][:]          # Shape (3034, 240, 192)\n",
    "    high_monitor = f[\"/high_count/monitor\"][:]    # Shape (3034,)\n",
    "    high_sampling = f[\"/high_count/sampling_time\"][:]\n",
    "\n",
    "    # low_count data\n",
    "    low_data = f[\"/low_count/data\"][:]            # Shape (3034, 240, 192)\n",
    "    low_monitor = f[\"/low_count/monitor\"][:]\n",
    "    low_sampling = f[\"/low_count/sampling_time\"][:]\n",
    "\n",
    "print(\"High count data:\", high_data.shape)\n",
    "print(\"Low count data:\", low_data.shape)\n",
    "\n",
    "for i in range(1):\n",
    "    print(f\"Sample {i}:\")\n",
    "    print(high_data[i])   # das ist ein 240x192-Array\n",
    "    print()               # Leerzeile\n",
    "    print(low_data[i])    # das ist ein 240x192-Array"
   ]
  }
 ],
 "metadata": {
  "kernelspec": {
   "display_name": ".venv",
   "language": "python",
   "name": "python3"
  },
  "language_info": {
   "codemirror_mode": {
    "name": "ipython",
    "version": 3
   },
   "file_extension": ".py",
   "mimetype": "text/x-python",
   "name": "python",
   "nbconvert_exporter": "python",
   "pygments_lexer": "ipython3",
   "version": "3.12.0"
  }
 },
 "nbformat": 4,
 "nbformat_minor": 5
}
