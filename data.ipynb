{
 "cells": [
  {
   "cell_type": "code",
   "execution_count": null,
   "id": "6d05eb7c",
   "metadata": {
    "vscode": {
     "languageId": "plaintext"
    }
   },
   "outputs": [],
   "source": [
    "import h5py\n",
    "import numpy as np\n",
    "\n",
    "file_path = \"test_data.hdf5\"\n",
    "\n",
    "with h5py.File(file_path, \"r\") as f:\n",
    "    # high_count data\n",
    "    high_data = f[\"/high_count/data\"][:]          # Shape (3034, 240, 192)\n",
    "    high_monitor = f[\"/high_count/monitor\"][:]    # Shape (3034,)\n",
    "    high_sampling = f[\"/high_count/sampling_time\"][:]\n",
    "\n",
    "    # low_count data\n",
    "    low_data = f[\"/low_count/data\"][:]            # Shape (3034, 240, 192)\n",
    "    low_monitor = f[\"/low_count/monitor\"][:]\n",
    "    low_sampling = f[\"/low_count/sampling_time\"][:]\n",
    "\n",
    "print(\"High count data:\", high_data.shape)\n",
    "print(\"Low count data:\", low_data.shape)\n",
    "\n",
    "for i in range(1):\n",
    "    print(f\"Sample {i}:\")\n",
    "    print(high_data[i])   # das ist ein 240x192-Array\n",
    "    print()               # Leerzeile\n",
    "    print(low_data[i])    # das ist ein 240x192-Array"
   ]
  }
 ],
 "metadata": {
  "language_info": {
   "name": "python"
  }
 },
 "nbformat": 4,
 "nbformat_minor": 5
}
